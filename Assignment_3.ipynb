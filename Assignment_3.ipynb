{
 "cells": [
  {
   "cell_type": "markdown",
   "metadata": {},
   "source": [
    "<h1><center>CSEN1022:Assignment 3</center></h1>\n",
    "<h3><center>Winter 2021</center></h3>\n",
    "<hr style=\"border:2px solid black\"> </hr>"
   ]
  },
  {
   "cell_type": "markdown",
   "metadata": {},
   "source": [
    "## <u> Please don't forget to fill in this data </u>\n",
    "**Member 1**\n",
    "\n",
    "Name: Ahmed Yasser Elgohary Hanafy\n",
    "\n",
    "GUC-ID: 43-2906\n",
    "\n",
    "Elective Tutorial No.: T-05\n",
    "\n",
    "**Member 2**\n",
    "\n",
    "Name: Omar Sameh Ali\n",
    "\n",
    "GUC-ID: 43-1931\n",
    "\n",
    "Elective Tutorial No.: T-02\n",
    "\n",
    "<hr style=\"border:2px solid black\"> </hr>"
   ]
  },
  {
   "cell_type": "markdown",
   "metadata": {},
   "source": [
    "## Imports (Don't Edit)"
   ]
  },
  {
   "cell_type": "code",
   "execution_count": 1,
   "metadata": {},
   "outputs": [],
   "source": [
    "# ONLY USE THESE IMPORTS.\n",
    "# PLEASE DON'T EDIT THIS CELL.\n",
    "import numpy as np\n",
    "import matplotlib.pyplot as plt\n",
    "%matplotlib inline"
   ]
  },
  {
   "cell_type": "markdown",
   "metadata": {},
   "source": [
    "## Read Data"
   ]
  },
  {
   "cell_type": "code",
   "execution_count": 2,
   "metadata": {},
   "outputs": [],
   "source": [
    "# X_train, X_test\n",
    "# THE image categories are different.\n",
    "x_train_airplane = np.array([plt.imread('Data/train/airplane/'+str(i)+'.jpg') for i in range (0,5000)])\n",
    "x_train=x_train_airplane\n",
    "y_train=np.repeat(0,5000)\n",
    "x_test_airplane = np.array([plt.imread('Data/test/airplane/'+str(i)+'.jpg') for i in range (0,1000)])\n",
    "x_test=x_test_airplane\n",
    "y_test=np.repeat(0,1000)\n",
    "\n",
    "x_train_bird = np.array([plt.imread('Data/train/bird/'+str(i)+'.jpg') for i in range (0,5000)])\n",
    "x_train=np.concatenate((x_train,x_train_bird))\n",
    "y_train=np.concatenate((y_train,np.repeat(1,5000)))\n",
    "x_test_bird = np.array([plt.imread('Data/test/bird/'+str(i)+'.jpg') for i in range (0,1000)])\n",
    "x_test=np.concatenate((x_test,x_test_bird))\n",
    "y_test=np.concatenate((y_test,np.repeat(1,1000)))\n",
    "\n",
    "x_train_truck = np.array([plt.imread('Data/train/truck/'+str(i)+'.jpg') for i in range (0,5000)])\n",
    "x_train=np.concatenate((x_train,x_train_truck))\n",
    "y_train=np.concatenate((y_train,np.repeat(2,5000)))\n",
    "x_test_truck = np.array([plt.imread('Data/test/truck/'+str(i)+'.jpg') for i in range (0,1000)])\n",
    "x_test=np.concatenate((x_test,x_test_truck))\n",
    "y_test=np.concatenate((y_test,np.repeat(2,1000)))\n",
    "\n",
    "X_train=np.reshape(x_train,(15000,32*32*3))\n",
    "X_test=np.reshape(x_test,(3000,32*32*3))\n",
    "X_train=np.array(X_train,dtype=np.int64)\n",
    "X_test=np.array(X_test,dtype=np.int64)"
   ]
  },
  {
   "cell_type": "markdown",
   "metadata": {},
   "source": [
    "<hr style=\"border:2px solid black\"> </hr>\n",
    "\n",
    "# Perform K means clustering for all 3 classes (Training Data).\n",
    "### Return (memberships, centroids, dbi) --> (vector, matrix, scalar value)."
   ]
  },
  {
   "cell_type": "code",
   "execution_count": 3,
   "metadata": {},
   "outputs": [],
   "source": [
    "###\n",
    "#CODE HERE#\n",
    "###\n",
    "def KMeansClustering(X_train):\n",
    "    p0=np.random.randint(low=0, high=14999)\n",
    "    p1=np.random.randint(low=0, high=14999)\n",
    "    p2=np.random.randint(low=0, high=14999)\n",
    "    centre0 = X_train[p0]\n",
    "    centre1 = X_train[p1]\n",
    "    centre2 = X_train[p2]\n",
    "    loop=True\n",
    "    newC0=centre0.copy()\n",
    "    newC1=centre1.copy()\n",
    "    newC2=centre2.copy()\n",
    "    oldCentroid=np.array([centre0,centre1,centre2],dtype=np.float64)\n",
    "    newCentroid=np.array([newC0,newC1,newC2],dtype=np.float64)\n",
    "    membership=np.zeros([15000])\n",
    "    while loop:\n",
    "        dist0 = np.linalg.norm(X_train - newCentroid[0],axis=1)\n",
    "        dist1 = np.linalg.norm(X_train - newCentroid[1],axis=1)\n",
    "        dist2 = np.linalg.norm(X_train - newCentroid[2],axis=1)\n",
    "\n",
    "        for i in range(len(X_train)):\n",
    "            if(dist0[i]<dist1[i] and dist0[i]<dist2[i]):\n",
    "                membership[i]=0\n",
    "\n",
    "            if(dist1[i]<dist0[i] and dist1[i]<dist2[i]):\n",
    "                membership[i]=1\n",
    "\n",
    "            if(dist2[i]<=dist0[i] and dist2[i]<=dist1[i]):\n",
    "                membership[i]=2\n",
    "        \n",
    "        newCentroid[0]=X_train[membership==0].mean(axis=0)\n",
    "        newCentroid[1]=X_train[membership==1].mean(axis=0)\n",
    "        newCentroid[2]=X_train[membership==2].mean(axis=0)\n",
    "\n",
    "        if (((newCentroid-oldCentroid)**2).sum()==0):\n",
    "        # if(newCentroid==oldCentroid).all():\n",
    "            loop=False\n",
    "            break\n",
    "        oldCentroid=newCentroid.copy()\n",
    "    \n",
    "    S_0=((np.linalg.norm(X_train[membership==0] - newCentroid[0],axis=1)).mean(axis=0))\n",
    "    S_1=((np.linalg.norm(X_train[membership==1] - newCentroid[1],axis=1)).mean(axis=0))\n",
    "    S_2=((np.linalg.norm(X_train[membership==2] - newCentroid[2],axis=1)).mean(axis=0))\n",
    "\n",
    "    M_01=np.linalg.norm(newCentroid[0] - newCentroid[1])\n",
    "    M_02=np.linalg.norm(newCentroid[0] - newCentroid[2])\n",
    "    M_12=np.linalg.norm(newCentroid[1] - newCentroid[2])\n",
    "\n",
    "\n",
    "    R01 = (S_0 + S_1)/M_01\n",
    "    R02 = (S_0 + S_2)/M_02\n",
    "    R12 = (S_1 + S_2)/M_12\n",
    "\n",
    "    centroids=newCentroid\n",
    "\n",
    "    dbi=np.array([R01,R02,R12]).max()\n",
    "\n",
    "    return (membership,centroids,dbi)\n",
    "\n",
    "# return (memberships, centroids, dbi)"
   ]
  },
  {
   "cell_type": "markdown",
   "metadata": {},
   "source": [
    "<hr style=\"border:2px solid black\"> </hr>\n",
    "\n",
    "# Repeat the previous process 10 times. \n",
    "### Pick the membership vector and the centroids matrix corresponding to the best dbi.\n",
    "##### Make sure you return max_counts and confusion_matrix.\n",
    "(keep history in whatever datastructure you like)."
   ]
  },
  {
   "cell_type": "code",
   "execution_count": 4,
   "metadata": {},
   "outputs": [],
   "source": [
    "res=[]\n",
    "for i in range(10):\n",
    "    res.append(KMeansClustering(X_train))\n",
    "\n",
    "maximum=res[0]\n",
    "for i in range(len(res)):\n",
    "    if maximum[2]>res[i][2]:\n",
    "        maximum=res[i]\n",
    "membership=maximum[0]\n",
    "centroids=maximum[1]\n",
    "\n",
    "\n",
    "train_cluster=membership[:5000]\n",
    "bird_cluster=membership[5000:10000]\n",
    "truck_cluster=membership[10000:]\n",
    "\n",
    "train=[len(train_cluster[train_cluster==0]),len(train_cluster[train_cluster==1]),len(train_cluster[train_cluster==2])]\n",
    "bird=[len(bird_cluster[bird_cluster==0]),len(bird_cluster[bird_cluster==1]),len(bird_cluster[bird_cluster==2])]\n",
    "truck=[len(truck_cluster[truck_cluster==0]),len(truck_cluster[truck_cluster==1]),len(truck_cluster[truck_cluster==2])]\n",
    "\n",
    "max_counts=[max(train),max(bird),max(truck)]\n",
    "\n",
    "centroid_train=centroids[train.index(max(train))]\n",
    "centroid_bird=centroids[bird.index(max(bird))]\n",
    "centroid_truck=centroids[truck.index(max(truck))]\n",
    "\n",
    "dist0 = np.linalg.norm(X_test - centroid_train,axis=1)\n",
    "dist1 = np.linalg.norm(X_test - centroid_bird,axis=1)\n",
    "dist2 = np.linalg.norm(X_test - centroid_truck,axis=1)\n",
    "\n",
    "prediction=np.zeros([3000])\n",
    "\n",
    "for i in range(len(X_test)):\n",
    "    if(dist0[i]<dist1[i] and dist0[i]<dist2[i]):\n",
    "        prediction[i]=0\n",
    "\n",
    "    if(dist1[i]<dist0[i] and dist1[i]<dist2[i]):\n",
    "        prediction[i]=1\n",
    "            \n",
    "    if(dist2[i]<=dist0[i] and dist2[i]<=dist1[i]):\n",
    "        prediction[i]=2\n",
    "\n",
    "\n",
    "pred1=prediction[:1000]\n",
    "pred2=prediction[1000:2000]\n",
    "pred3=prediction[2000:3000]\n",
    "(unique1, counts1) = np.unique(pred1, return_counts=True)\n",
    "(unique2, counts2) = np.unique(pred2,return_counts=True)\n",
    "(unique3, counts3) = np.unique(pred3,return_counts=True)\n",
    "confusion_matrix=np.concatenate(([counts1],[counts2],[counts3]))\n",
    "\n",
    "#best_membership_matrix = \n",
    "#best_centroids = \n",
    "#best_dbi = \n",
    "\n",
    "#max_counts = \n",
    "#confusion_matrix="
   ]
  },
  {
   "cell_type": "markdown",
   "metadata": {},
   "source": [
    "<hr style=\"border:2px solid black\"> </hr>\n",
    "\n",
    "## Don't Edit the Following Cells, Just Run & Save them."
   ]
  },
  {
   "cell_type": "code",
   "execution_count": 5,
   "metadata": {},
   "outputs": [
    {
     "data": {
      "text/plain": [
       "Text(0.5, 1.0, 'Best Counts')"
      ]
     },
     "execution_count": 5,
     "metadata": {},
     "output_type": "execute_result"
    },
    {
     "data": {
      "image/png": "[encoded data removed]",
      "text/plain": [
       "<Figure size 720x432 with 1 Axes>"
      ]
     },
     "metadata": {
      "needs_background": "light"
     },
     "output_type": "display_data"
    }
   ],
   "source": [
    "plt.figure(figsize=(10,6))\n",
    "plt.plot(['Airplane','Bird','Truck'],max_counts,'-o')\n",
    "plt.title('Best Counts')"
   ]
  },
  {
   "cell_type": "code",
   "execution_count": 6,
   "metadata": {},
   "outputs": [
    {
     "data": {
      "image/png": "[encoded data removed]",
      "text/plain": [
       "<Figure size 360x360 with 1 Axes>"
      ]
     },
     "metadata": {
      "needs_background": "light"
     },
     "output_type": "display_data"
    }
   ],
   "source": [
    "plt.rc('figure', figsize=[5,5])\n",
    "plt.matshow(confusion_matrix,cmap=\"Blues\")\n",
    "for i in range(0,confusion_matrix.shape[0]):\n",
    "    for j in range(0,confusion_matrix.shape[1]):\n",
    "        plt.annotate(confusion_matrix[i,j],(j,i))"
   ]
  }
 ],
 "metadata": {
  "interpreter": {
   "hash": "31f2aee4e71d21fbe5cf8b01ff0e069b9275f58929596ceb00d14d90e3e16cd6"
  },
  "kernelspec": {
   "display_name": "Python 3",
   "language": "python",
   "name": "python3"
  },
  "language_info": {
   "codemirror_mode": {
    "name": "ipython",
    "version": 3
   },
   "file_extension": ".py",
   "mimetype": "text/x-python",
   "name": "python",
   "nbconvert_exporter": "python",
   "pygments_lexer": "ipython3",
   "version": "3.9.2"
  }
 },
 "nbformat": 4,
 "nbformat_minor": 4
}
